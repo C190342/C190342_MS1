{
  "cells": [
    {
      "metadata": {
        "collapsed": true
      },
      "cell_type": "markdown",
      "source": "## 数理統計学(2019)　課題1\n\n### このnotebookには、いくつかの課題が記載されています。\n### 先頭から順番に、指示に従ってPython Codeをcellに記述してください。\n### codeを記述するcellは、各自適切に生成してください。\n\n### 課題提出方法\n#### 各自のGitHubに、学籍番号_MS1（たとえば、C180001_MS1)という名称のrepositoryを作成してください。\n#### このnotebookを各自のGitHubのリポジトリ（学籍番号_MS1)へコピーしてください。\n#### 各自のGitHubのリポジトリをoffice 365のメールアカウントを使用して、sugimura@ccg.ac.jpへ送信してください。メールの件名は、学籍番号_MS1としてください。\n##### 【重要】指定された方法で課題を提出することも課題に含まれています。"
    },
    {
      "metadata": {},
      "cell_type": "markdown",
      "source": "#### 第1問：Pythonにおいて数値計算を行うためのモジュルnumpyをインポートし、numpy数値計算ライブラリを利用できるように設定してください。"
    },
    {
      "metadata": {
        "trusted": true
      },
      "cell_type": "code",
      "source": "import numpy as np",
      "execution_count": 6,
      "outputs": []
    },
    {
      "metadata": {},
      "cell_type": "markdown",
      "source": "#### 第2問：numpyのメソッドnumpy.random.normal(avg, std, n)は、平均がavg、標準偏差がstdである正規分布に従う乱数をn個発生させることができます。このメソッドを使用して、平均=60、標準偏差=15、個数=50である乱数からなるリストA1を発生させ、画面に表示させてください。\n"
    },
    {
      "metadata": {
        "trusted": true
      },
      "cell_type": "code",
      "source": "A1 = np.random.normal(60, 15, 50)\nprint(A1)   #画面に表示させる。",
      "execution_count": 7,
      "outputs": [
        {
          "output_type": "stream",
          "text": "[55.44790284 62.49314215 24.32896257 65.13109239 58.38137732 75.59306197\n 58.95245841 62.15337799 40.64547408 30.64838945 40.41784831 68.36412403\n 57.89279594 22.83726283 56.80845413 15.5517903  60.17395921 54.00951712\n 48.95218905 70.8641295  45.47269348 56.88814639 78.78812867 64.03768138\n 69.06444133 50.98198875 60.28252913 24.81568342 48.54949297 41.32823521\n 78.64435994 61.46996541 56.59155723 60.84960396 77.11472078 44.83194289\n 58.73264734 74.34535273 39.49841519 89.22762427 72.24505045 72.22587184\n 41.4578742  60.12938785 66.53766417 54.28035278 67.90609753 56.18841876\n 53.49223888 63.31199659]\n",
          "name": "stdout"
        }
      ]
    },
    {
      "metadata": {},
      "cell_type": "markdown",
      "source": "#### 第3問：第2問で発生させた乱数を整数に変換して、50個の整数のリストA2を発生させ、画面に表示させてください。\n#### Pythonのint関数は、データを整数へ変換することができます。xが実数であるとき、int(x)は、xを丸めた整数型の数値を返します。\n#### なお、リスト内包表記を用いると、コードを簡単化することができます。"
    },
    {
      "metadata": {
        "trusted": true
      },
      "cell_type": "code",
      "source": "A2 = A1.astype(np.int)\nprint(A2)   #画面に表示させる。",
      "execution_count": 8,
      "outputs": [
        {
          "output_type": "stream",
          "text": "[55 62 24 65 58 75 58 62 40 30 40 68 57 22 56 15 60 54 48 70 45 56 78 64\n 69 50 60 24 48 41 78 61 56 60 77 44 58 74 39 89 72 72 41 60 66 54 67 56\n 53 63]\n",
          "name": "stdout"
        }
      ]
    },
    {
      "metadata": {},
      "cell_type": "markdown",
      "source": "#### 第3問：以下の整数型リストB1の要素の平均値を計算して、画面に表示させてください。\n\n##### なお、平均値は、\n\n$$平均値　= \\frac{リスト中の要素の合計}{リスト中の要素の個数}$$\n\n##### によって計算してください。\n\nB1 = [80, 84, 41, 58, 87, 75, 61, 103, 52, 86, 91, 58, 53, 40, 56, 55, 57, 43, 60, 61, 61, 46, 99, 48, 58, \n      72, 52, 75, 71, 60, 54, 60, 64, 38, 56, 57, 78, 55, 53, 28, 67, 86, 75, 73, 82, 86, 65, 26, 59, 24]"
    },
    {
      "metadata": {
        "trusted": true
      },
      "cell_type": "code",
      "source": "B1 = [80, 84, 41, 58, 87, 75, 61, 103, 52, 86, 91, 58, 53, 40, 56, 55, 57, 43, 60, 61, 61, 46, 99, 48, 58, \n      72, 52, 75, 71, 60, 54, 60, 64, 38, 56, 57, 78, 55, 53, 28, 67, 86, 75, 73, 82, 86, 65, 26, 59, 24]\nprint(np.mean(B1))",
      "execution_count": 9,
      "outputs": [
        {
          "output_type": "stream",
          "text": "62.58\n",
          "name": "stdout"
        }
      ]
    },
    {
      "metadata": {},
      "cell_type": "markdown",
      "source": "#### 第4問：整数型リストB1の要素の中の最大値を求めるコードを記述し、max(B1)の結果と一致することを確認してください。"
    },
    {
      "metadata": {
        "trusted": true
      },
      "cell_type": "code",
      "source": "print(np.max(B1))",
      "execution_count": 10,
      "outputs": [
        {
          "output_type": "stream",
          "text": "103\n",
          "name": "stdout"
        }
      ]
    },
    {
      "metadata": {
        "trusted": true
      },
      "cell_type": "code",
      "source": "",
      "execution_count": null,
      "outputs": []
    }
  ],
  "metadata": {
    "kernelspec": {
      "name": "python36",
      "display_name": "Python 3.6",
      "language": "python"
    },
    "language_info": {
      "mimetype": "text/x-python",
      "nbconvert_exporter": "python",
      "name": "python",
      "pygments_lexer": "ipython3",
      "version": "3.6.6",
      "file_extension": ".py",
      "codemirror_mode": {
        "version": 3,
        "name": "ipython"
      }
    }
  },
  "nbformat": 4,
  "nbformat_minor": 2
}